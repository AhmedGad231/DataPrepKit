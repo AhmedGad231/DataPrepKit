{
 "cells": [
  {
   "cell_type": "code",
   "execution_count": null,
   "id": "f1118bc1-8322-478e-a6c9-921f7d240ebf",
   "metadata": {},
   "outputs": [],
   "source": [
    "import pandas as pd\n",
    "import numpy as np\n",
    "from sklearn.preprocessing import LabelEncoder"
   ]
  },
  {
   "cell_type": "code",
   "execution_count": null,
   "id": "4d0fb27c-14bb-4b84-ac84-dfcb1f066626",
   "metadata": {},
   "outputs": [],
   "source": [
    "class DataPrepKit:\n",
    "    def __init__(self):\n",
    "        self.df = None\n",
    "        \n",
    "    def Read_Data(self, path):\n",
    "        if path[-3: ] == 'csv': # check the last 3 characters of the string (The Extension of the path)\n",
    "            self.df = pd.read_csv(path) # Read the file upon the raw path\n",
    "            return self.df # return the data set\n",
    "        elif path[-4: ] == 'xlsx':\n",
    "            self.df = pd.read_excel(path)\n",
    "            return(self.df)\n",
    "        elif path[-3: ] == 'xml':\n",
    "            self.df = pd.read_xml(path)\n",
    "            return(self.df)\n",
    "        elif path[-4: ] == 'json':\n",
    "            self.df= pd.read_json(path)\n",
    "            return(self.df)\n",
    "        elif path[-4: ] == \"html\":\n",
    "            self.df = pd.read_html(path)\n",
    "            return self.df\n",
    "    def Data_Summary(self):\n",
    "        if self.df is None:\n",
    "            print(\"No data has been read yet.\")\n",
    "            return\n",
    "        else:\n",
    "            print(\"The Shape of The Dataset[number of rows, number of columns]\")\n",
    "            print(self.df.shape)\n",
    "            print(\"The info of the Dataframe: \\n\")\n",
    "            print(self.df.info(),\"\\n\")\n",
    "            print(\"The describe [count, mean,std, min, q1, q2, q3, max ] of the numerical Dataframe: \\n\")\n",
    "            print(self.df.describe(), \"\\n\")\n",
    "            datalabels = self.df.columns\n",
    "            print(\"The Value Counts of eachh Column of the DataFrame: \")\n",
    "            for i in range(len(datalabels)):\n",
    "                print(self.df[datalabels[i]].value_counts(),\"\\n\")\n",
    "    def Handling_UnWanted_Columns(self, ListOfUnWantedColumns):\n",
    "        for i in range(len(ListOfUnWantedColumns)):\n",
    "            self.df.drop(ListOfUnWantedColumns[i], axis = 1, inplace = True)\n",
    "        print(\"The Columns are Dropped: {}\".format(ListOfUnWantedColumns[:]))\n",
    "        return self.df\n",
    "    def Show_Missing_Values(self):\n",
    "        datalabels = self.df.columns\n",
    "        lst_labels = list(datalabels.values.tolist())\n",
    "        print(\"Missing Values Counts number of each Column of the DataFrame: \")\n",
    "        for i in range(len(datalabels)):\n",
    "            print(\"{0}: {1} {2}\".format(lst_labels[i],self.df[datalabels[i]].isna().sum(), \"Nan Value\"))\n",
    "    def Handling_Missing_Values(self, Columns, Method):            \n",
    "        if \"remove\" in Method.lower():\n",
    "            for i in range(len(Columns)):\n",
    "                self.df = self.df.dropna(subset = [Columns[i]])\n",
    "                self.df = self.df.reset_index()\n",
    "        elif \"median\" in Method.lower():\n",
    "            for i in range(len(Columns)):\n",
    "                median_value = self.df[Columns[i]].median()\n",
    "                self.df[Columns[i]].fillna(median_value, inplace = True)\n",
    "        elif \"mod\" in Method.lower():\n",
    "            for i in range(len(Columns)):\n",
    "                self.df[Columns[i]].fillna(self.df[Columns[i]].value_counts().index[0], inplace = True)\n",
    "        elif \"mean\" in Method.lower():\n",
    "            for i in range(len(Columns)):\n",
    "                mean_value = self.df[Columns[i]].mean()\n",
    "                self.df[Columns[i]].fillna(mean_value, inplace = True)\n",
    "        return self.df\n",
    "    def Categorical_Data_Encoding(self, Columns, Method):\n",
    "        if \"one hot\" in Method.lower():\n",
    "            for i in range(len(Columns)):\n",
    "                one_hot = pd.get_dummies(self.df[Columns[i]])\n",
    "                self.df = pd.concat([self.df, one_hot], axis=1)\n",
    "                self.df = self.df.drop(Columns[i], axis=1)\n",
    "        elif \"label\" in Method.lower():\n",
    "            for i in range(len(Columns)):\n",
    "                le = LabelEncoder()\n",
    "                self.df[\"new\"+Columns[i]] = le.fit_transform(self.df[Columns[i]])\n",
    "                self.df = self.df.drop(Columns[i], axis=1)\n",
    "        elif \"binary\" in Method.lower():\n",
    "            for i in range(len(Columns)):\n",
    "                if len(self.df[Columns[i]].unique()) > 2:\n",
    "                    print(\"The values of This feature is more than 2 can't make binary encoding\")\n",
    "                else:\n",
    "                    self.df[\"binary \"+Columns[i]] = self.df[Columns[i]].map({self.df[Columns[i]].unique()[0] : 1, self.df[Columns[i]].unique()[1] : 0})\n",
    "                    self.df = self.df.drop(Columns[i], axis=1)\n",
    "        return self.df"
   ]
  },
  {
   "cell_type": "code",
   "execution_count": null,
   "id": "c675ea52-8a1c-430c-b558-08609723c018",
   "metadata": {},
   "outputs": [],
   "source": [
    "User_Path =r\"your path\"\n",
    "data_prep = DataPrepKit()\n",
    "data_prep.Read_Data(User_Path)"
   ]
  },
  {
   "cell_type": "code",
   "execution_count": null,
   "id": "21df4dc6-569a-4a3e-9d48-9e4b71298e7f",
   "metadata": {},
   "outputs": [],
   "source": [
    "data_prep.Data_Summary()"
   ]
  },
  {
   "cell_type": "code",
   "execution_count": null,
   "id": "a4c4b037-d2fd-47e9-b0c3-a584fa621236",
   "metadata": {},
   "outputs": [],
   "source": [
    "ListOfUnWantedColumns = [\"The Columns you want to drop\"] #Here You write the columns you want to delete from the dataframe\n",
    "data_prep.Handling_UnWanted_Columns(ListOfUnWantedColumns)"
   ]
  },
  {
   "cell_type": "code",
   "execution_count": null,
   "id": "86a2eec8-52e5-4a76-92f9-ea0114a1f8b9",
   "metadata": {},
   "outputs": [],
   "source": [
    "data_prep.Show_Missing_Values()"
   ]
  },
  {
   "cell_type": "code",
   "execution_count": null,
   "id": "43934c0d-fa26-4617-bff5-a990fd0b7389",
   "metadata": {},
   "outputs": [],
   "source": [
    "Columns = [\"Columns you want to handle\"] # the coulmns you want to do the method on it the methods are [Remove, Median, Mean, Mod]\n",
    "Method = \"the Method\"  #Choose one method you want at a time you must at least type one word of Remove, median, mean or mod as  sting in Method variable\n",
    "data_prep.Handling_Missing_Values(Columns, Method)"
   ]
  },
  {
   "cell_type": "code",
   "execution_count": null,
   "id": "88d53745-e253-4281-8a2e-959edbdf4ed6",
   "metadata": {},
   "outputs": [],
   "source": [
    "Columns = [\"Columns you want to enocde\"]# the coulmns you want to do the method on it the methods are [one hot encoding, label encoding, binary encoding]\n",
    "Method = \"the method\"\n",
    "#Choose one method you want at a time you must at least type one word of one hot, label or binary as  sting in Method variable\n",
    "data_prep.Categorical_Data_Encoding(Columns, Method)"
   ]
  }
 ],
 "metadata": {
  "kernelspec": {
   "display_name": "Python 3 (ipykernel)",
   "language": "python",
   "name": "python3"
  },
  "language_info": {
   "codemirror_mode": {
    "name": "ipython",
    "version": 3
   },
   "file_extension": ".py",
   "mimetype": "text/x-python",
   "name": "python",
   "nbconvert_exporter": "python",
   "pygments_lexer": "ipython3",
   "version": "3.11.4"
  }
 },
 "nbformat": 4,
 "nbformat_minor": 5
}
